{
 "cells": [
  {
   "cell_type": "code",
   "execution_count": 1,
   "metadata": {
    "collapsed": true
   },
   "outputs": [],
   "source": [
    "#HW #5 Pyber"
   ]
  },
  {
   "cell_type": "code",
   "execution_count": 2,
   "metadata": {
    "collapsed": true
   },
   "outputs": [],
   "source": [
    "#Dependencies\n",
    "\n",
    "import pandas as pd\n",
    "import os\n",
    "import numpy as np\n",
    "import matplotlib.pyplot as plt"
   ]
  },
  {
   "cell_type": "code",
   "execution_count": 3,
   "metadata": {},
   "outputs": [
    {
     "data": {
      "text/html": [
       "<div>\n",
       "<style>\n",
       "    .dataframe thead tr:only-child th {\n",
       "        text-align: right;\n",
       "    }\n",
       "\n",
       "    .dataframe thead th {\n",
       "        text-align: left;\n",
       "    }\n",
       "\n",
       "    .dataframe tbody tr th {\n",
       "        vertical-align: top;\n",
       "    }\n",
       "</style>\n",
       "<table border=\"1\" class=\"dataframe\">\n",
       "  <thead>\n",
       "    <tr style=\"text-align: right;\">\n",
       "      <th></th>\n",
       "      <th>city</th>\n",
       "      <th>driver_count</th>\n",
       "      <th>type</th>\n",
       "    </tr>\n",
       "  </thead>\n",
       "  <tbody>\n",
       "    <tr>\n",
       "      <th>0</th>\n",
       "      <td>Kelseyland</td>\n",
       "      <td>63</td>\n",
       "      <td>Urban</td>\n",
       "    </tr>\n",
       "    <tr>\n",
       "      <th>1</th>\n",
       "      <td>Nguyenbury</td>\n",
       "      <td>8</td>\n",
       "      <td>Urban</td>\n",
       "    </tr>\n",
       "    <tr>\n",
       "      <th>2</th>\n",
       "      <td>East Douglas</td>\n",
       "      <td>12</td>\n",
       "      <td>Urban</td>\n",
       "    </tr>\n",
       "    <tr>\n",
       "      <th>3</th>\n",
       "      <td>West Dawnfurt</td>\n",
       "      <td>34</td>\n",
       "      <td>Urban</td>\n",
       "    </tr>\n",
       "    <tr>\n",
       "      <th>4</th>\n",
       "      <td>Rodriguezburgh</td>\n",
       "      <td>52</td>\n",
       "      <td>Urban</td>\n",
       "    </tr>\n",
       "  </tbody>\n",
       "</table>\n",
       "</div>"
      ],
      "text/plain": [
       "             city  driver_count   type\n",
       "0      Kelseyland            63  Urban\n",
       "1      Nguyenbury             8  Urban\n",
       "2    East Douglas            12  Urban\n",
       "3   West Dawnfurt            34  Urban\n",
       "4  Rodriguezburgh            52  Urban"
      ]
     },
     "execution_count": 3,
     "metadata": {},
     "output_type": "execute_result"
    }
   ],
   "source": [
    "#Read in city data\n",
    "csvpath1 = os.path.join(\"..\", \"raw_data\", \"city_data.csv\")\n",
    "city = pd.read_csv(csvpath1)\n",
    "city.head()"
   ]
  },
  {
   "cell_type": "code",
   "execution_count": 4,
   "metadata": {},
   "outputs": [
    {
     "data": {
      "text/plain": [
       "city            126\n",
       "driver_count    126\n",
       "type            126\n",
       "dtype: int64"
      ]
     },
     "execution_count": 4,
     "metadata": {},
     "output_type": "execute_result"
    }
   ],
   "source": [
    "city.count()"
   ]
  },
  {
   "cell_type": "code",
   "execution_count": 5,
   "metadata": {},
   "outputs": [
    {
     "data": {
      "text/html": [
       "<div>\n",
       "<style>\n",
       "    .dataframe thead tr:only-child th {\n",
       "        text-align: right;\n",
       "    }\n",
       "\n",
       "    .dataframe thead th {\n",
       "        text-align: left;\n",
       "    }\n",
       "\n",
       "    .dataframe tbody tr th {\n",
       "        vertical-align: top;\n",
       "    }\n",
       "</style>\n",
       "<table border=\"1\" class=\"dataframe\">\n",
       "  <thead>\n",
       "    <tr style=\"text-align: right;\">\n",
       "      <th></th>\n",
       "      <th>city</th>\n",
       "      <th>date</th>\n",
       "      <th>fare</th>\n",
       "      <th>ride_id</th>\n",
       "    </tr>\n",
       "  </thead>\n",
       "  <tbody>\n",
       "    <tr>\n",
       "      <th>0</th>\n",
       "      <td>Sarabury</td>\n",
       "      <td>2016-01-16 13:49:27</td>\n",
       "      <td>38.35</td>\n",
       "      <td>5403689035038</td>\n",
       "    </tr>\n",
       "    <tr>\n",
       "      <th>1</th>\n",
       "      <td>South Roy</td>\n",
       "      <td>2016-01-02 18:42:34</td>\n",
       "      <td>17.49</td>\n",
       "      <td>4036272335942</td>\n",
       "    </tr>\n",
       "    <tr>\n",
       "      <th>2</th>\n",
       "      <td>Wiseborough</td>\n",
       "      <td>2016-01-21 17:35:29</td>\n",
       "      <td>44.18</td>\n",
       "      <td>3645042422587</td>\n",
       "    </tr>\n",
       "    <tr>\n",
       "      <th>3</th>\n",
       "      <td>Spencertown</td>\n",
       "      <td>2016-07-31 14:53:22</td>\n",
       "      <td>6.87</td>\n",
       "      <td>2242596575892</td>\n",
       "    </tr>\n",
       "    <tr>\n",
       "      <th>4</th>\n",
       "      <td>Nguyenbury</td>\n",
       "      <td>2016-07-09 04:42:44</td>\n",
       "      <td>6.28</td>\n",
       "      <td>1543057793673</td>\n",
       "    </tr>\n",
       "  </tbody>\n",
       "</table>\n",
       "</div>"
      ],
      "text/plain": [
       "          city                 date   fare        ride_id\n",
       "0     Sarabury  2016-01-16 13:49:27  38.35  5403689035038\n",
       "1    South Roy  2016-01-02 18:42:34  17.49  4036272335942\n",
       "2  Wiseborough  2016-01-21 17:35:29  44.18  3645042422587\n",
       "3  Spencertown  2016-07-31 14:53:22   6.87  2242596575892\n",
       "4   Nguyenbury  2016-07-09 04:42:44   6.28  1543057793673"
      ]
     },
     "execution_count": 5,
     "metadata": {},
     "output_type": "execute_result"
    }
   ],
   "source": [
    "#Read in ride data\n",
    "csvpath2 = os.path.join(\"..\", \"raw_data\",\"ride_data.csv\")\n",
    "ride = pd.read_csv(csvpath2)\n",
    "ride.head()"
   ]
  },
  {
   "cell_type": "code",
   "execution_count": 6,
   "metadata": {},
   "outputs": [
    {
     "data": {
      "text/html": [
       "<div>\n",
       "<style>\n",
       "    .dataframe thead tr:only-child th {\n",
       "        text-align: right;\n",
       "    }\n",
       "\n",
       "    .dataframe thead th {\n",
       "        text-align: left;\n",
       "    }\n",
       "\n",
       "    .dataframe tbody tr th {\n",
       "        vertical-align: top;\n",
       "    }\n",
       "</style>\n",
       "<table border=\"1\" class=\"dataframe\">\n",
       "  <thead>\n",
       "    <tr style=\"text-align: right;\">\n",
       "      <th></th>\n",
       "      <th>city</th>\n",
       "      <th>avg_fare</th>\n",
       "    </tr>\n",
       "  </thead>\n",
       "  <tbody>\n",
       "    <tr>\n",
       "      <th>0</th>\n",
       "      <td>Alvarezhaven</td>\n",
       "      <td>23.928710</td>\n",
       "    </tr>\n",
       "    <tr>\n",
       "      <th>1</th>\n",
       "      <td>Alyssaberg</td>\n",
       "      <td>20.609615</td>\n",
       "    </tr>\n",
       "    <tr>\n",
       "      <th>2</th>\n",
       "      <td>Anitamouth</td>\n",
       "      <td>37.315556</td>\n",
       "    </tr>\n",
       "    <tr>\n",
       "      <th>3</th>\n",
       "      <td>Antoniomouth</td>\n",
       "      <td>23.625000</td>\n",
       "    </tr>\n",
       "    <tr>\n",
       "      <th>4</th>\n",
       "      <td>Aprilchester</td>\n",
       "      <td>21.981579</td>\n",
       "    </tr>\n",
       "  </tbody>\n",
       "</table>\n",
       "</div>"
      ],
      "text/plain": [
       "           city   avg_fare\n",
       "0  Alvarezhaven  23.928710\n",
       "1    Alyssaberg  20.609615\n",
       "2    Anitamouth  37.315556\n",
       "3  Antoniomouth  23.625000\n",
       "4  Aprilchester  21.981579"
      ]
     },
     "execution_count": 6,
     "metadata": {},
     "output_type": "execute_result"
    }
   ],
   "source": [
    "#Part 1: Average Fare ($) Per City\n",
    "\n",
    "ride_grouped = ride.groupby('city')\n",
    "\n",
    "avg_fare = pd.DataFrame(ride_grouped.mean())\n",
    "del avg_fare['ride_id']\n",
    "avg_fare = avg_fare.rename(columns = {'fare':'avg_fare'})\n",
    "avg_fare = avg_fare.reset_index()\n",
    "avg_fare.head()\n",
    "#avg_fare.count()"
   ]
  },
  {
   "cell_type": "code",
   "execution_count": 7,
   "metadata": {},
   "outputs": [
    {
     "data": {
      "text/html": [
       "<div>\n",
       "<style>\n",
       "    .dataframe thead tr:only-child th {\n",
       "        text-align: right;\n",
       "    }\n",
       "\n",
       "    .dataframe thead th {\n",
       "        text-align: left;\n",
       "    }\n",
       "\n",
       "    .dataframe tbody tr th {\n",
       "        vertical-align: top;\n",
       "    }\n",
       "</style>\n",
       "<table border=\"1\" class=\"dataframe\">\n",
       "  <thead>\n",
       "    <tr style=\"text-align: right;\">\n",
       "      <th></th>\n",
       "      <th>city</th>\n",
       "      <th>avg_fare</th>\n",
       "      <th>total_rides</th>\n",
       "      <th>driver_count</th>\n",
       "      <th>type</th>\n",
       "    </tr>\n",
       "  </thead>\n",
       "  <tbody>\n",
       "    <tr>\n",
       "      <th>0</th>\n",
       "      <td>Alvarezhaven</td>\n",
       "      <td>23.928710</td>\n",
       "      <td>31</td>\n",
       "      <td>21</td>\n",
       "      <td>Urban</td>\n",
       "    </tr>\n",
       "    <tr>\n",
       "      <th>1</th>\n",
       "      <td>Alyssaberg</td>\n",
       "      <td>20.609615</td>\n",
       "      <td>26</td>\n",
       "      <td>67</td>\n",
       "      <td>Urban</td>\n",
       "    </tr>\n",
       "    <tr>\n",
       "      <th>2</th>\n",
       "      <td>Anitamouth</td>\n",
       "      <td>37.315556</td>\n",
       "      <td>9</td>\n",
       "      <td>16</td>\n",
       "      <td>Suburban</td>\n",
       "    </tr>\n",
       "    <tr>\n",
       "      <th>3</th>\n",
       "      <td>Antoniomouth</td>\n",
       "      <td>23.625000</td>\n",
       "      <td>22</td>\n",
       "      <td>21</td>\n",
       "      <td>Urban</td>\n",
       "    </tr>\n",
       "    <tr>\n",
       "      <th>4</th>\n",
       "      <td>Aprilchester</td>\n",
       "      <td>21.981579</td>\n",
       "      <td>19</td>\n",
       "      <td>49</td>\n",
       "      <td>Urban</td>\n",
       "    </tr>\n",
       "  </tbody>\n",
       "</table>\n",
       "</div>"
      ],
      "text/plain": [
       "           city   avg_fare  total_rides  driver_count      type\n",
       "0  Alvarezhaven  23.928710           31            21     Urban\n",
       "1    Alyssaberg  20.609615           26            67     Urban\n",
       "2    Anitamouth  37.315556            9            16  Suburban\n",
       "3  Antoniomouth  23.625000           22            21     Urban\n",
       "4  Aprilchester  21.981579           19            49     Urban"
      ]
     },
     "execution_count": 7,
     "metadata": {},
     "output_type": "execute_result"
    }
   ],
   "source": [
    "#Part 2: Total Number of Rides Per City\n",
    "\n",
    "total_ride = pd.DataFrame(ride_grouped.count())\n",
    "del total_ride['date']\n",
    "del total_ride['fare']\n",
    "total_ride = total_ride.rename(columns = {'ride_id': 'total_rides'})\n",
    "total_ride = total_ride.reset_index()\n",
    "total_ride.head()\n",
    "\n",
    "\n",
    "# Merge avg_fare, total_ride, and city data frames together\n",
    "\n",
    "result1 = pd.merge(avg_fare, total_ride, on='city')\n",
    "result2 = pd.merge(result1, city, on='city')\n",
    "\n",
    "result2.head()"
   ]
  },
  {
   "cell_type": "code",
   "execution_count": 17,
   "metadata": {},
   "outputs": [
    {
     "ename": "TypeError",
     "evalue": "'PathCollection' object is not iterable",
     "output_type": "error",
     "traceback": [
      "\u001b[1;31m---------------------------------------------------------------------------\u001b[0m",
      "\u001b[1;31mTypeError\u001b[0m                                 Traceback (most recent call last)",
      "\u001b[1;32m<ipython-input-17-22bd1c33dde2>\u001b[0m in \u001b[0;36m<module>\u001b[1;34m()\u001b[0m\n\u001b[0;32m     16\u001b[0m Urban, = plt.scatter(x_values_urban, y_values_urban, marker=\"o\", \n\u001b[0;32m     17\u001b[0m             \u001b[0mcolor\u001b[0m\u001b[1;33m=\u001b[0m\u001b[1;34m'red'\u001b[0m\u001b[1;33m,\u001b[0m\u001b[1;33m\u001b[0m\u001b[0m\n\u001b[1;32m---> 18\u001b[1;33m             sizes=driver_count_urban, alpha=0.75)\n\u001b[0m\u001b[0;32m     19\u001b[0m \u001b[1;33m\u001b[0m\u001b[0m\n\u001b[0;32m     20\u001b[0m \u001b[1;31m#SUBURBAN\u001b[0m\u001b[1;33m\u001b[0m\u001b[1;33m\u001b[0m\u001b[0m\n",
      "\u001b[1;31mTypeError\u001b[0m: 'PathCollection' object is not iterable"
     ]
    }
   ],
   "source": [
    "#Bubble Chart\n",
    "#Experiment with effects like alpha, edgecolor, and linewidths.\n",
    "\n",
    "# Create a random array of data of the same size as x_values\n",
    "# that we will use for our y values\n",
    "\n",
    "\n",
    "#URBAN\n",
    "result2_urban = result2[result2['type'] =='Urban']\n",
    "x_values_urban = result2_urban['total_rides']\n",
    "y_values_urban = result2_urban['avg_fare']\n",
    "driver_count_urban = result2_urban['driver_count']\n",
    "city_type = result2_urban['type']\n",
    "\n",
    "# Create a scatter plot. The size of each point on our plot is determined by their x value\n",
    "Urban, = plt.scatter(x_values_urban, y_values_urban, marker=\"o\", \n",
    "            color='red',\n",
    "            sizes=driver_count_urban, alpha=0.75)\n",
    "\n",
    "#SUBURBAN\n",
    "\n",
    "result2_suburban = result2[result2['type'] =='Urban']\n",
    "x_values_suburban = result2_suburban['total_rides']\n",
    "y_values_suburban = result2_suburban['avg_fare']\n",
    "driver_count_suburban = result2_suburban['driver_count']\n",
    "\n",
    "# Create a scatter plot. The size of each point on our plot is determined by their x value\n",
    "Suburban, = plt.scatter(x_values_suburban, y_values_suburban, marker=\"o\", \n",
    "            color='blue',\n",
    "            sizes=driver_count_suburban, alpha=0.75)\n",
    "\n",
    "#RURAL\n",
    "\n",
    "result2_rural = result2[result2['type'] =='Urban']\n",
    "x_values_rural = result2_rural['total_rides']\n",
    "y_values_rural = result2_rural['avg_fare']\n",
    "driver_count_rural = result2_rural['driver_count']\n",
    "\n",
    "# Create a scatter plot. The size of each point on our plot is determined by their x value\n",
    "Rural, = plt.scatter(x_values_suburban, y_values_suburban, marker=\"o\", \n",
    "            color='yellow',\n",
    "            sizes=driver_count_suburban, alpha=0.75)\n",
    "\n",
    "#LEGEND\n",
    "plt.legend(handles=[Urban, Suburban, Rural], loc='best')\n",
    "\n",
    "plt.xlabel('Total Number of Rides (Per City)')\n",
    "plt.ylabel('Average Fare ($)')\n",
    "plt.show\n",
    "plt.close()"
   ]
  },
  {
   "cell_type": "code",
   "execution_count": 30,
   "metadata": {},
   "outputs": [
    {
     "data": {
      "text/html": [
       "<div>\n",
       "<style>\n",
       "    .dataframe thead tr:only-child th {\n",
       "        text-align: right;\n",
       "    }\n",
       "\n",
       "    .dataframe thead th {\n",
       "        text-align: left;\n",
       "    }\n",
       "\n",
       "    .dataframe tbody tr th {\n",
       "        vertical-align: top;\n",
       "    }\n",
       "</style>\n",
       "<table border=\"1\" class=\"dataframe\">\n",
       "  <thead>\n",
       "    <tr style=\"text-align: right;\">\n",
       "      <th></th>\n",
       "      <th>type</th>\n",
       "      <th>driver_count</th>\n",
       "      <th>fare</th>\n",
       "      <th>ride_id</th>\n",
       "    </tr>\n",
       "  </thead>\n",
       "  <tbody>\n",
       "    <tr>\n",
       "      <th>0</th>\n",
       "      <td>Rural</td>\n",
       "      <td>727</td>\n",
       "      <td>4255.09</td>\n",
       "      <td>658729360193746</td>\n",
       "    </tr>\n",
       "    <tr>\n",
       "      <th>1</th>\n",
       "      <td>Suburban</td>\n",
       "      <td>9730</td>\n",
       "      <td>20335.69</td>\n",
       "      <td>3139583688401015</td>\n",
       "    </tr>\n",
       "    <tr>\n",
       "      <th>2</th>\n",
       "      <td>Urban</td>\n",
       "      <td>64501</td>\n",
       "      <td>40078.34</td>\n",
       "      <td>7890194186030600</td>\n",
       "    </tr>\n",
       "  </tbody>\n",
       "</table>\n",
       "</div>"
      ],
      "text/plain": [
       "       type  driver_count      fare           ride_id\n",
       "0     Rural           727   4255.09   658729360193746\n",
       "1  Suburban          9730  20335.69  3139583688401015\n",
       "2     Urban         64501  40078.34  7890194186030600"
      ]
     },
     "execution_count": 30,
     "metadata": {},
     "output_type": "execute_result"
    }
   ],
   "source": [
    "#Pie Charts\n",
    "#When making your Pie Chart, experiment with effects like shadow, startangle, and explosion.\n",
    "#Include Plot Titles, Axes Labels, Legend Labels, Wedge Percentages, and Wedge Labels.\n",
    "#You must stick to the Pyber color scheme (Gold, Light Sky Blue, and Light Coral) in producing your plot and pie charts.\n",
    "\n",
    "#% of Total Fares by City Type\n",
    "\n",
    "city_ride = pd.merge(city, ride, on='city')\n",
    "city_ride.head()\n",
    "city_ride_group = city_ride.groupby('type')\n",
    "city_ride_sum = city_ride_group.sum()\n",
    "city_ride_sum = city_ride_sum.reset_index()\n",
    "city_ride_sum.head()"
   ]
  },
  {
   "cell_type": "code",
   "execution_count": 31,
   "metadata": {},
   "outputs": [
    {
     "data": {
      "image/png": "[encoded data removed]",
      "text/plain": [
       "<matplotlib.figure.Figure at 0xc3d0b70>"
      ]
     },
     "metadata": {},
     "output_type": "display_data"
    }
   ],
   "source": [
    "labels = city_ride_sum['type']\n",
    "sizes = city_ride_sum['fare']\n",
    "colors = ['gold','lightskyblue', \"lightcoral\"]\n",
    "explode = [0, 0, 0.1]\n",
    "\n",
    "plt.pie(sizes, labels=labels, colors=colors, explode=explode,\n",
    "        autopct=\"{0:1.1f}%\".format, shadow=True, startangle=140)\n",
    "plt.axis(\"equal\")\n",
    "plt.title('% of Total Fares by City Type')\n",
    "plt.savefig('% of Total Fares by City Type')\n",
    "plt.show()\n",
    "plt.close()"
   ]
  },
  {
   "cell_type": "code",
   "execution_count": 45,
   "metadata": {},
   "outputs": [
    {
     "data": {
      "text/plain": [
       "Urban       0.675114\n",
       "Suburban    0.272954\n",
       "Rural       0.051932\n",
       "Name: type, dtype: float64"
      ]
     },
     "execution_count": 45,
     "metadata": {},
     "output_type": "execute_result"
    }
   ],
   "source": [
    "#% of Total Rides by City Type\n",
    "# can't use the result of the sum function on the grouped data because the sum of the ride id's wouldn't make sense\n",
    "#Assuming that every row in the city_ride data frame is a unique ride, I can use value_counts to count the total rides\n",
    "city_ride['type'].value_counts('Urban')"
   ]
  },
  {
   "cell_type": "code",
   "execution_count": 50,
   "metadata": {},
   "outputs": [
    {
     "data": {
      "image/png": "[encoded data removed]",
      "text/plain": [
       "<matplotlib.figure.Figure at 0xc2f39e8>"
      ]
     },
     "metadata": {},
     "output_type": "display_data"
    }
   ],
   "source": [
    "labels = ['Urban','Suburban','Rural']\n",
    "sizes = [0.675114, 0.272954, 0.051932]\n",
    "colors = ['lightcoral','lightskyblue', 'gold']\n",
    "explode = [0.1, 0, 0]\n",
    "\n",
    "plt.pie(sizes, labels=labels, colors=colors, explode=explode,\n",
    "        autopct=\"{0:1.1f}%\".format, shadow=True, startangle=240)\n",
    "plt.axis(\"equal\")\n",
    "plt.title('% of Total Rides by City Type')\n",
    "plt.savefig('% of Total Rides by City Type')\n",
    "plt.show()\n",
    "plt.close()\n"
   ]
  },
  {
   "cell_type": "code",
   "execution_count": 33,
   "metadata": {},
   "outputs": [
    {
     "ename": "AttributeError",
     "evalue": "'DataFrameGroupBy' object has no attribute 'value_counts'",
     "output_type": "error",
     "traceback": [
      "\u001b[1;31m---------------------------------------------------------------------------\u001b[0m",
      "\u001b[1;31mAttributeError\u001b[0m                            Traceback (most recent call last)",
      "\u001b[1;32m<ipython-input-33-440909f0c624>\u001b[0m in \u001b[0;36m<module>\u001b[1;34m()\u001b[0m\n\u001b[0;32m      1\u001b[0m \u001b[1;31m#% of Total Rides by City Type\u001b[0m\u001b[1;33m\u001b[0m\u001b[1;33m\u001b[0m\u001b[0m\n\u001b[0;32m      2\u001b[0m \u001b[1;33m\u001b[0m\u001b[0m\n\u001b[1;32m----> 3\u001b[1;33m \u001b[0mtotal_rides_city\u001b[0m \u001b[1;33m=\u001b[0m \u001b[0mcity_ride_group\u001b[0m\u001b[1;33m.\u001b[0m\u001b[0mvalue_counts\u001b[0m\u001b[1;33m(\u001b[0m\u001b[1;33m)\u001b[0m\u001b[1;33m\u001b[0m\u001b[0m\n\u001b[0m\u001b[0;32m      4\u001b[0m \u001b[0mtotal_rides_city\u001b[0m \u001b[1;33m=\u001b[0m \u001b[0mtotal_rides_city\u001b[0m\u001b[1;33m.\u001b[0m\u001b[0mreset_index\u001b[0m\u001b[1;33m(\u001b[0m\u001b[1;33m)\u001b[0m\u001b[1;33m\u001b[0m\u001b[0m\n\u001b[0;32m      5\u001b[0m \u001b[0mtotal_rides_city\u001b[0m\u001b[1;33m.\u001b[0m\u001b[0mhead\u001b[0m\u001b[1;33m(\u001b[0m\u001b[1;33m)\u001b[0m\u001b[1;33m\u001b[0m\u001b[0m\n",
      "\u001b[1;32m~\\Anaconda3\\lib\\site-packages\\pandas\\core\\groupby.py\u001b[0m in \u001b[0;36m__getattr__\u001b[1;34m(self, attr)\u001b[0m\n\u001b[0;32m    549\u001b[0m \u001b[1;33m\u001b[0m\u001b[0m\n\u001b[0;32m    550\u001b[0m         raise AttributeError(\"%r object has no attribute %r\" %\n\u001b[1;32m--> 551\u001b[1;33m                              (type(self).__name__, attr))\n\u001b[0m\u001b[0;32m    552\u001b[0m \u001b[1;33m\u001b[0m\u001b[0m\n\u001b[0;32m    553\u001b[0m     \u001b[0mplot\u001b[0m \u001b[1;33m=\u001b[0m \u001b[0mproperty\u001b[0m\u001b[1;33m(\u001b[0m\u001b[0mGroupByPlot\u001b[0m\u001b[1;33m)\u001b[0m\u001b[1;33m\u001b[0m\u001b[0m\n",
      "\u001b[1;31mAttributeError\u001b[0m: 'DataFrameGroupBy' object has no attribute 'value_counts'"
     ]
    }
   ],
   "source": [
    "#% of Total Rides by City Type\n",
    "\n",
    "city_ride_group.value_counts('Urban')\n",
    "\n",
    "total_rides_city = city_ride_group.value_counts()\n",
    "total_rides_city = total_rides_city.reset_index()\n",
    "total_rides_city.head()\n",
    "\n",
    "labels = total_rides_city['type']\n",
    "sizes = total_rides_city['fare']\n",
    "colors = ['gold','lightskyblue', \"lightcoral\"]\n",
    "explode = [0, 0, 0.1]\n",
    "\n",
    "plt.pie(sizes, labels=labels, colors=colors, explode=explode,\n",
    "        autopct=\"{0:1.1f}%\".format, shadow=True, startangle=140)\n",
    "plt.axis(\"equal\")\n",
    "plt.title('% of Total Rides by City Type')\n",
    "plt.savefig('% of Total Rides by City Type')\n",
    "plt.show()\n",
    "plt.close()\n"
   ]
  },
  {
   "cell_type": "code",
   "execution_count": 53,
   "metadata": {},
   "outputs": [
    {
     "data": {
      "image/png": "[encoded data removed]",
      "text/plain": [
       "<matplotlib.figure.Figure at 0xbcc9d68>"
      ]
     },
     "metadata": {},
     "output_type": "display_data"
    }
   ],
   "source": [
    "#% of Total Drivers by City \n",
    "\n",
    "labels = city_ride_sum['type']\n",
    "sizes = city_ride_sum['driver_count']\n",
    "colors = ['gold','lightskyblue', \"lightcoral\"]\n",
    "explode = [0, 0, 0.1]\n",
    "\n",
    "plt.pie(sizes, labels=labels, colors=colors, explode=explode,\n",
    "        autopct=\"{0:1.1f}%\".format, shadow=True, startangle=140)\n",
    "plt.axis(\"equal\")\n",
    "plt.title('% of Total Drivers by City Type')\n",
    "plt.savefig('% of Total Drivers by City Type')\n",
    "plt.show()\n",
    "plt.close()"
   ]
  },
  {
   "cell_type": "code",
   "execution_count": 21,
   "metadata": {
    "collapsed": true
   },
   "outputs": [],
   "source": [
    "#Written description of three observable trends based on the data.\n",
    "#You must include an exported markdown version of your Notebook called  README.md in your GitHub repository.\n",
    "\n",
    "\n",
    "#Since I couldn't get my bubble graph to show, I referred to the Pyber Example Output to discern trends.\n",
    "#1. The vast majority of the rides are in Urban cities.  In other words, Pyber's primary customer base resides in urban areas. \n",
    "#2. The average ride is greater for rural cities than suburban, and even greater for urban cities. \n",
    "#We intuitively assume that Pyber customers in rural ciites need to go travel further to their destination and hence\n",
    "#would have a higher fare.\n",
    "#3. With the exception of one rural city, all the total number of rides for urban ciites is above 15 \n",
    "#and all the total number or rides for rural and suburban ares are below 15 rides per city. "
   ]
  }
 ],
 "metadata": {
  "kernelspec": {
   "display_name": "Python 3",
   "language": "python",
   "name": "python3"
  },
  "language_info": {
   "codemirror_mode": {
    "name": "ipython",
    "version": 3
   },
   "file_extension": ".py",
   "mimetype": "text/x-python",
   "name": "python",
   "nbconvert_exporter": "python",
   "pygments_lexer": "ipython3",
   "version": "3.6.2"
  }
 },
 "nbformat": 4,
 "nbformat_minor": 2
}
